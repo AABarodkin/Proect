{
 "cells": [
  {
   "cell_type": "markdown",
   "id": "4d8d5c59-7034-4d43-929d-a1ef378a8cc9",
   "metadata": {
    "tags": []
   },
   "source": [
    "# My Jupyter Notebook on IBM Watson Studio"
   ]
  },
  {
   "cell_type": "markdown",
   "id": "bc835789-3a42-4785-aa87-f20e7630a0b8",
   "metadata": {},
   "source": [
    "**Aliaksandr Barodkin**"
   ]
  },
  {
   "cell_type": "markdown",
   "id": "9ae19feb-46fa-4f89-8d1b-ae2c3ad7933e",
   "metadata": {},
   "source": [
    "*I am interested in data science as this is the science of the future!*"
   ]
  },
  {
   "cell_type": "markdown",
   "id": "4a8d6604-efab-4d33-834e-9df70689de14",
   "metadata": {},
   "source": [
    "### addition of two numbers"
   ]
  },
  {
   "cell_type": "code",
   "execution_count": 3,
   "id": "f4b82aa0-a049-42ee-8067-c18a3981202f",
   "metadata": {},
   "outputs": [
    {
     "data": {
      "text/plain": [
       "2"
      ]
     },
     "execution_count": 3,
     "metadata": {},
     "output_type": "execute_result"
    }
   ],
   "source": [
    "1+1\n"
   ]
  },
  {
   "cell_type": "markdown",
   "id": "88cb4049-800f-480b-8bbb-ab38afcec47b",
   "metadata": {},
   "source": [
    "~~lucky try~~\n",
    "\n",
    "***\n",
    "\n",
    "* one \n",
    "- two\n",
    "+ three\n",
    "\n",
    "***"
   ]
  },
  {
   "cell_type": "code",
   "execution_count": null,
   "id": "3abd6922-9722-4e56-a417-6d3af8fa0050",
   "metadata": {},
   "outputs": [],
   "source": []
  }
 ],
 "metadata": {
  "kernelspec": {
   "display_name": "Python",
   "language": "python",
   "name": "conda-env-python-py"
  },
  "language_info": {
   "codemirror_mode": {
    "name": "ipython",
    "version": 3
   },
   "file_extension": ".py",
   "mimetype": "text/x-python",
   "name": "python",
   "nbconvert_exporter": "python",
   "pygments_lexer": "ipython3",
   "version": "3.7.12"
  }
 },
 "nbformat": 4,
 "nbformat_minor": 5
}
